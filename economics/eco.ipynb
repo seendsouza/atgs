{
 "cells": [
  {
   "cell_type": "code",
   "execution_count": 1,
   "metadata": {},
   "outputs": [],
   "source": [
    "import math\n",
    "\n",
    "\n",
    "def fp(i, N):\n",
    "    return pow((1+i), N)\n",
    "\n",
    "\n",
    "def pf(i, N):\n",
    "    return pow((1+i), -N)\n",
    "\n",
    "\n",
    "def af(i, N):\n",
    "    return i/(fp(i, N)-1)\n",
    "\n",
    "\n",
    "def fa(i, N):\n",
    "    return (fp(i, N)-1)/i\n",
    "\n",
    "\n",
    "def ap(i, N):\n",
    "    return (i*fp(i, N))/(fp(i, N)-1)\n",
    "\n",
    "\n",
    "def pa(i, N):\n",
    "    return (fp(i, N)-1)/(i*fp(i, N))\n",
    "\n",
    "\n",
    "def pc(i, k, N):\n",
    "    if i == k:\n",
    "        return N/(1+i)\n",
    "    else:\n",
    "        return (1/(i-k))*(1-pow((1+k)/(1+i), N))\n",
    "\n",
    "\n",
    "def fc(i, k, N):\n",
    "    return pc(i, k, N) * fp(i, N)\n",
    "\n",
    "\n",
    "def ac(i, k, N):\n",
    "    return pc(i, k, N) * ap(i, N)\n",
    "\n",
    "\n",
    "def ag(i, n):\n",
    "    return (1/i)-(n/(pow((i+1), n)-1))\n",
    "\n",
    "\n",
    "def pg(i, N):\n",
    "    return pa(i, N) * ag(i, N)\n",
    "\n",
    "\n",
    "def fg(i, N):\n",
    "    return fa(i, N) * ag(i, N)"
   ]
  },
  {
   "cell_type": "code",
   "execution_count": null,
   "metadata": {},
   "outputs": [],
   "source": []
  },
  {
   "cell_type": "code",
   "execution_count": null,
   "metadata": {},
   "outputs": [],
   "source": []
  }
 ],
 "metadata": {
  "kernelspec": {
   "display_name": "Python 3",
   "language": "python",
   "name": "python3"
  },
  "language_info": {
   "codemirror_mode": {
    "name": "ipython",
    "version": 3
   },
   "file_extension": ".py",
   "mimetype": "text/x-python",
   "name": "python",
   "nbconvert_exporter": "python",
   "pygments_lexer": "ipython3",
   "version": "3.9.1"
  }
 },
 "nbformat": 4,
 "nbformat_minor": 4
}
