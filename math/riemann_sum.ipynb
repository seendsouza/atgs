{
  "nbformat": 4,
  "nbformat_minor": 0,
  "metadata": {
    "colab": {
      "name": "riemann_sum.ipynb",
      "provenance": []
    },
    "kernelspec": {
      "name": "python3",
      "display_name": "Python 3"
    }
  },
  "cells": [
    {
      "cell_type": "code",
      "metadata": {
        "id": "CAH7tPyZJKUW",
        "colab_type": "code",
        "colab": {
          "base_uri": "https://localhost:8080/",
          "height": 36
        },
        "outputId": "f14d0f73-23f8-410c-a13d-7c930dea570d"
      },
      "source": [
        "values = [1,1.25,1.5,1.75,2,2.25,2.5,2.75,3,3.25,3.5,3.75]\n",
        "import math\n",
        "from fractions import Fraction\n",
        "\n",
        "fractions = [Fraction(dec/4) for dec in [math.pow(x,2)-1 for x in values]]\n",
        "_=[print(frac,\",\",end=\"\") for frac in fractions]"
      ],
      "execution_count": 5,
      "outputs": [
        {
          "output_type": "stream",
          "text": [
            "0 ,9/64 ,5/16 ,33/64 ,3/4 ,65/64 ,21/16 ,105/64 ,2 ,153/64 ,45/16 ,209/64 ,"
          ],
          "name": "stdout"
        }
      ]
    },
    {
      "cell_type": "code",
      "metadata": {
        "id": "dpa_xeX_KDe5",
        "colab_type": "code",
        "colab": {
          "base_uri": "https://localhost:8080/",
          "height": 36
        },
        "outputId": "e3baf9f9-8756-4ef6-b0d5-6e37d88ee3e8"
      },
      "source": [
        "print(sum([math.pow(x,2)-1 for x in values])/4)"
      ],
      "execution_count": 6,
      "outputs": [
        {
          "output_type": "stream",
          "text": [
            "16.15625\n"
          ],
          "name": "stdout"
        }
      ]
    }
  ]
}