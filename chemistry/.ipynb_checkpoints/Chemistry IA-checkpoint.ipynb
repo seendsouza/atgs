{
 "cells": [
  {
   "cell_type": "code",
   "execution_count": 11,
   "metadata": {},
   "outputs": [
    {
     "name": "stdout",
     "output_type": "stream",
     "text": [
      "Soy Milk: 0.5078058403542968\n",
      "Goat Milk: 0.7887832112976061\n",
      "Regular Milk: 0.7738602856784624\n"
     ]
    }
   ],
   "source": [
    "def density_calc(V1,V2,V3):\n",
    "    return (m_EDTA * (V1 + V2 + V3) * M_Ca2)/(3 * M_EDTA * (V_H2O + V_NaOH) * V_milk_sample)\n",
    "\n",
    "m_EDTA = 3.64 # g\n",
    "M_EDTA = 380.171 # g/mol\n",
    "V_H2O = 0.5000 # L\n",
    "V_NaOH = 0.1000 # L\n",
    "V_milk_sample = 0.00500 # L\n",
    "M_Ca2 = 40.078 #g/mol\n",
    "\n",
    "soy1 = 0.00869 - 0.00469 # L\n",
    "soy2 = 0.01339 - 0.00945 # L\n",
    "soy3 = 0.01749 - 0.01352 # L\n",
    "\n",
    "goat1 = 0.03979 - 0.03361 # L\n",
    "goat2 = 0.04620 - 0.04000 # L\n",
    "goat3 = 0.05322 - 0.04710 # L\n",
    "\n",
    "regular1 = 0.02279 - 0.01671# L\n",
    "regular2 = 0.02882 - 0.02279# L\n",
    "regular3 = 0.03646 - 0.03042# L\n",
    "den_soy = density_calc(soy1, soy2, soy3)\n",
    "den_goat = density_calc(goat1, goat2, goat3)\n",
    "den_milk = density_calc(regular1, regular2, regular3)\n",
    "print(\"Soy Milk: \" + str(den_soy))\n",
    "print(\"Goat Milk: \" + str(den_goat))\n",
    "print(\"Regular Milk: \" + str(den_milk))"
   ]
  },
  {
   "cell_type": "code",
   "execution_count": 10,
   "metadata": {},
   "outputs": [
    {
     "name": "stdout",
     "output_type": "stream",
     "text": [
      "Soy Milk: 0.03126950295716039\n",
      "Goat Milk: 0.022296802296802302\n",
      "Regular Milk: 0.02260951170042079\n"
     ]
    }
   ],
   "source": [
    "dm_EDTA = 0.01 # g\n",
    "dV1 = 0.0001 # L\n",
    "dV2 = 0.0001 # L\n",
    "dV3 = 0.0001 # L\n",
    "dV_H2O = 0.0006 # L\n",
    "dV_NaOH = 0.0002 # L\n",
    "dV_milk_sample = 0.00001# L\n",
    "\n",
    "def unc_calc(V1, V2, V3):\n",
    "    return ((dm_EDTA/m_EDTA)+((dV1 + dV2 + dV3)/(V1 + V2 + V3)) + ((dV_H2O + dV_NaOH)/(V_H2O + V_NaOH)) + (dV_milk_sample/V_milk_sample))\n",
    "unc_soy = unc_calc(soy1, soy2, soy3)\n",
    "unc_goat = unc_calc(goat1, goat2, goat3)\n",
    "unc_milk = unc_calc(regular1, regular2, regular3)\n",
    "print(\"Soy Milk: \" + str(unc_soy))\n",
    "print(\"Goat Milk: \" + str(unc_goat))\n",
    "print(\"Regular Milk: \" + str(unc_milk))"
   ]
  },
  {
   "cell_type": "code",
   "execution_count": 23,
   "metadata": {},
   "outputs": [
    {
     "name": "stdout",
     "output_type": "stream",
     "text": [
      "         Types of Milks  Density (g/L)     Error\n",
      "0                   Soy       0.507806  0.015879\n",
      "1                  Goat       0.788783  0.017587\n",
      "2  2% Partially Skimmed       0.773860  0.017497\n"
     ]
    }
   ],
   "source": [
    "import pandas as pd\n",
    "df = pd.DataFrame({'Types of Milks':['Soy', 'Goat', '2% Partially Skimmed'], 'Density (g/L)':[den_soy, den_goat, den_milk], 'Error':[unc_soy*den_soy,unc_goat*den_goat,unc_milk*den_milk]})\n",
    "print(df)"
   ]
  },
  {
   "cell_type": "code",
   "execution_count": 36,
   "metadata": {},
   "outputs": [
    {
     "data": {
      "text/plain": [
       "[Text(0, 0.5, 'Density (g/L)')]"
      ]
     },
     "execution_count": 36,
     "metadata": {},
     "output_type": "execute_result"
    },
    {
     "data": {
      "image/png": "[encoded data removed]",
      "text/plain": [
       "<Figure size 432x288 with 1 Axes>"
      ]
     },
     "metadata": {
      "needs_background": "light"
     },
     "output_type": "display_data"
    }
   ],
   "source": [
    "graph = df.plot.bar(x = 'Types of Milks', y = 'Density (g/L)',yerr = 'Error',  title = 'Density of Calcium Ions in Various Milks', rot = 0, legend = False)\n",
    "graph.set(ylabel = 'Density (g/L)')"
   ]
  },
  {
   "cell_type": "code",
   "execution_count": null,
   "metadata": {},
   "outputs": [],
   "source": []
  }
 ],
 "metadata": {
  "kernelspec": {
   "display_name": "Python 3",
   "language": "python",
   "name": "python3"
  },
  "language_info": {
   "codemirror_mode": {
    "name": "ipython",
    "version": 3
   },
   "file_extension": ".py",
   "mimetype": "text/x-python",
   "name": "python",
   "nbconvert_exporter": "python",
   "pygments_lexer": "ipython3",
   "version": "3.6.6"
  }
 },
 "nbformat": 4,
 "nbformat_minor": 2
}
