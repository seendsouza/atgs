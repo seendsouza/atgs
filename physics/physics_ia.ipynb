{
 "cells": [
  {
   "cell_type": "code",
   "execution_count": 64,
   "metadata": {},
   "outputs": [
    {
     "data": {
      "text/html": [
       "<div>\n",
       "<style scoped>\n",
       "    .dataframe tbody tr th:only-of-type {\n",
       "        vertical-align: middle;\n",
       "    }\n",
       "\n",
       "    .dataframe tbody tr th {\n",
       "        vertical-align: top;\n",
       "    }\n",
       "\n",
       "    .dataframe thead th {\n",
       "        text-align: right;\n",
       "    }\n",
       "</style>\n",
       "<table border=\"1\" class=\"dataframe\">\n",
       "  <thead>\n",
       "    <tr style=\"text-align: right;\">\n",
       "      <th></th>\n",
       "      <th>Diameter</th>\n",
       "      <th>Trial 1</th>\n",
       "      <th>Trial 2</th>\n",
       "      <th>Trial 3</th>\n",
       "      <th>Trial 4</th>\n",
       "      <th>Trial 5</th>\n",
       "      <th>Average</th>\n",
       "      <th>Standard Deviation</th>\n",
       "      <th>Power</th>\n",
       "      <th>Fit</th>\n",
       "    </tr>\n",
       "  </thead>\n",
       "  <tbody>\n",
       "    <tr>\n",
       "      <th>0</th>\n",
       "      <td>25.5</td>\n",
       "      <td>0.8</td>\n",
       "      <td>0.7</td>\n",
       "      <td>0.9</td>\n",
       "      <td>1.0</td>\n",
       "      <td>1.0</td>\n",
       "      <td>0.88</td>\n",
       "      <td>0.130384</td>\n",
       "      <td>6.158643e+03</td>\n",
       "      <td>0.0</td>\n",
       "    </tr>\n",
       "    <tr>\n",
       "      <th>1</th>\n",
       "      <td>32.0</td>\n",
       "      <td>18.0</td>\n",
       "      <td>18.5</td>\n",
       "      <td>18.2</td>\n",
       "      <td>19.0</td>\n",
       "      <td>18.4</td>\n",
       "      <td>18.42</td>\n",
       "      <td>0.376829</td>\n",
       "      <td>2.150251e+06</td>\n",
       "      <td>0.0</td>\n",
       "    </tr>\n",
       "    <tr>\n",
       "      <th>2</th>\n",
       "      <td>41.2</td>\n",
       "      <td>154.0</td>\n",
       "      <td>153.0</td>\n",
       "      <td>155.0</td>\n",
       "      <td>159.0</td>\n",
       "      <td>160.0</td>\n",
       "      <td>156.20</td>\n",
       "      <td>3.114482</td>\n",
       "      <td>1.200949e+08</td>\n",
       "      <td>0.0</td>\n",
       "    </tr>\n",
       "    <tr>\n",
       "      <th>3</th>\n",
       "      <td>43.5</td>\n",
       "      <td>210.0</td>\n",
       "      <td>212.0</td>\n",
       "      <td>214.0</td>\n",
       "      <td>216.0</td>\n",
       "      <td>218.0</td>\n",
       "      <td>214.00</td>\n",
       "      <td>3.162278</td>\n",
       "      <td>2.135002e+08</td>\n",
       "      <td>0.0</td>\n",
       "    </tr>\n",
       "    <tr>\n",
       "      <th>4</th>\n",
       "      <td>45.9</td>\n",
       "      <td>215.0</td>\n",
       "      <td>216.0</td>\n",
       "      <td>217.0</td>\n",
       "      <td>218.0</td>\n",
       "      <td>219.0</td>\n",
       "      <td>217.00</td>\n",
       "      <td>1.581139</td>\n",
       "      <td>2.080495e+08</td>\n",
       "      <td>0.0</td>\n",
       "    </tr>\n",
       "  </tbody>\n",
       "</table>\n",
       "</div>"
      ],
      "text/plain": [
       "   Diameter  Trial 1  Trial 2  Trial 3  Trial 4  Trial 5  Average  \\\n",
       "0      25.5      0.8      0.7      0.9      1.0      1.0     0.88   \n",
       "1      32.0     18.0     18.5     18.2     19.0     18.4    18.42   \n",
       "2      41.2    154.0    153.0    155.0    159.0    160.0   156.20   \n",
       "3      43.5    210.0    212.0    214.0    216.0    218.0   214.00   \n",
       "4      45.9    215.0    216.0    217.0    218.0    219.0   217.00   \n",
       "\n",
       "   Standard Deviation         Power  Fit  \n",
       "0            0.130384  6.158643e+03  0.0  \n",
       "1            0.376829  2.150251e+06  0.0  \n",
       "2            3.114482  1.200949e+08  0.0  \n",
       "3            3.162278  2.135002e+08  0.0  \n",
       "4            1.581139  2.080495e+08  0.0  "
      ]
     },
     "execution_count": 64,
     "metadata": {},
     "output_type": "execute_result"
    }
   ],
   "source": [
    "import pandas as pd\n",
    "import numpy as np\n",
    "import math\n",
    "area = 0.0003211 #m\n",
    "resistivity = 1.68*10**(-8) #ohm m\n",
    "df1 = pd.read_csv(\"./ia_legacy.csv\")\n",
    "df2 = df1.drop(columns=[\"Diameter\"])\n",
    "df1['Average'] = df2.mean(numeric_only=True, axis=1)\n",
    "df1['Standard Deviation'] = df2.std(axis=1)\n",
    "df1['Power'] = ((df1['Average']**2)*area)/(resistivity * 30 * math.pi * (df1[\"Diameter\"] * 0.001))\n",
    "df1['Fit']=(2.08*10**8)/(1+2.7**(df1['Power']))\n",
    "df1"
   ]
  },
  {
   "cell_type": "code",
   "execution_count": 65,
   "metadata": {},
   "outputs": [
    {
     "data": {
      "image/png": "[encoded data removed]",
      "text/plain": [
       "<Figure size 432x288 with 1 Axes>"
      ]
     },
     "metadata": {
      "needs_background": "light"
     },
     "output_type": "display_data"
    }
   ],
   "source": [
    "slope_equation = np.polyfit(df1[\"Diameter\"],df1[\"Average\"], 1)\n",
    "slope = np.poly1d(slope_equation)\n",
    "df1['Trendline'] = slope(df1[\"Diameter\"])\n",
    "ax=df1.plot.scatter(x=\"Diameter\",y=\"Average\",xerr=0.1,yerr=df1[\"Average\"]*yerr)\n",
    "ax.set_xlabel(\"Diameter (cm)\")\n",
    "ax.set_ylabel(\"Current (mA)\")\n",
    "ax.set_xlim(left=0)\n",
    "xerr=0.1\n",
    "yerr=0.02\n",
    "#bx=df1.plot(ax=ax,x=\"Diameter\",y=\"Trendline\", title=\"Diameter vs Current\")\n",
    "\n",
    "#bx.errorbar(df1[\"Diameter\"], df1[\"Average\"], df1[\"Average\"]*yerr, 0.1, barsabove='True')"
   ]
  },
  {
   "cell_type": "code",
   "execution_count": 42,
   "metadata": {
    "scrolled": true
   },
   "outputs": [
    {
     "name": "stdout",
     "output_type": "stream",
     "text": [
      "[ 7.52967781e+05 -4.21366936e+07  5.81437964e+08]\n"
     ]
    },
    {
     "data": {
      "text/plain": [
       "(0, 46.92734669885079)"
      ]
     },
     "execution_count": 42,
     "metadata": {},
     "output_type": "execute_result"
    },
    {
     "data": {
      "image/png": "[encoded data removed]",
      "text/plain": [
       "<Figure size 432x288 with 1 Axes>"
      ]
     },
     "metadata": {
      "needs_background": "light"
     },
     "output_type": "display_data"
    }
   ],
   "source": [
    "\"\"\"\"\n",
    "slope_equation = np.polyfit(df1[\"Diameter\"],df1[\"Power\"], deg=2)\n",
    "print(slope_equation)\n",
    "slope = np.poly1d(slope_equation)\n",
    "df1['pTrendline'] = slope(df1[\"Diameter\"])\n",
    "ax=df1.plot.scatter(x=\"Diameter\",y=\"Power\")\n",
    "ax.set_xlabel(\"Diameter (cm)\")\n",
    "ax.set_ylabel(\"Power(W)\")\n",
    "ax.set_xlim(left=0)\n",
    "#bx=df1.plot(ax=ax,x=\"Diameter\",y=\"pTrendline\", title=\"Diameter vs Power\")\n",
    "\"\"\"\""
   ]
  },
  {
   "cell_type": "code",
   "execution_count": 49,
   "metadata": {
    "scrolled": false
   },
   "outputs": [
    {
     "name": "stdout",
     "output_type": "stream",
     "text": [
      "[0. 0.]\n"
     ]
    },
    {
     "data": {
      "text/plain": [
       "(0, 46.92734669885079)"
      ]
     },
     "execution_count": 49,
     "metadata": {},
     "output_type": "execute_result"
    },
    {
     "data": {
      "image/png": "[encoded data removed]",
      "text/plain": [
       "<Figure size 432x288 with 1 Axes>"
      ]
     },
     "metadata": {
      "needs_background": "light"
     },
     "output_type": "display_data"
    }
   ],
   "source": [
    "\"\"\"\"\n",
    "slope_equation = np.polyfit(df1[\"Diameter\"],df1[\"Fit\"], deg=1)\n",
    "print(slope_equation)\n",
    "slope = np.poly1d(slope_equation)\n",
    "df1['fTrendline'] = slope(df1[\"Diameter\"])\n",
    "ax=df1.plot.scatter(x=\"Diameter\",y=\"Fit\")\n",
    "ax.set_xlabel(\"Diameter (cm)\")\n",
    "ax.set_ylabel(\"idk\")\n",
    "ax.set_xlim(left=0)\n",
    "#bx=df1.plot(ax=ax,x=\"Diameter\",y=\"fTrendline\", title=\"Diameter vs Fit\")\n",
    "\"\"\"\"\"\""
   ]
  },
  {
   "cell_type": "code",
   "execution_count": 52,
   "metadata": {},
   "outputs": [
    {
     "data": {
      "text/html": [
       "<div>\n",
       "<style scoped>\n",
       "    .dataframe tbody tr th:only-of-type {\n",
       "        vertical-align: middle;\n",
       "    }\n",
       "\n",
       "    .dataframe tbody tr th {\n",
       "        vertical-align: top;\n",
       "    }\n",
       "\n",
       "    .dataframe thead th {\n",
       "        text-align: right;\n",
       "    }\n",
       "</style>\n",
       "<table border=\"1\" class=\"dataframe\">\n",
       "  <thead>\n",
       "    <tr style=\"text-align: right;\">\n",
       "      <th></th>\n",
       "      <th>Diameter</th>\n",
       "      <th>Trial 1</th>\n",
       "      <th>Trial 2</th>\n",
       "      <th>Trial 3</th>\n",
       "      <th>Trial 4</th>\n",
       "      <th>Trial 5</th>\n",
       "    </tr>\n",
       "  </thead>\n",
       "  <tbody>\n",
       "    <tr>\n",
       "      <th>0</th>\n",
       "      <td>32.0</td>\n",
       "      <td>0.360</td>\n",
       "      <td>0.370</td>\n",
       "      <td>0.364</td>\n",
       "      <td>0.380</td>\n",
       "      <td>0.368</td>\n",
       "    </tr>\n",
       "    <tr>\n",
       "      <th>1</th>\n",
       "      <td>36.1</td>\n",
       "      <td>1.440</td>\n",
       "      <td>1.442</td>\n",
       "      <td>1.438</td>\n",
       "      <td>1.444</td>\n",
       "      <td>1.420</td>\n",
       "    </tr>\n",
       "    <tr>\n",
       "      <th>2</th>\n",
       "      <td>38.5</td>\n",
       "      <td>2.444</td>\n",
       "      <td>2.438</td>\n",
       "      <td>2.442</td>\n",
       "      <td>2.440</td>\n",
       "      <td>2.440</td>\n",
       "    </tr>\n",
       "    <tr>\n",
       "      <th>3</th>\n",
       "      <td>41.2</td>\n",
       "      <td>3.080</td>\n",
       "      <td>3.060</td>\n",
       "      <td>3.100</td>\n",
       "      <td>3.180</td>\n",
       "      <td>3.200</td>\n",
       "    </tr>\n",
       "    <tr>\n",
       "      <th>4</th>\n",
       "      <td>43.5</td>\n",
       "      <td>4.200</td>\n",
       "      <td>4.240</td>\n",
       "      <td>4.280</td>\n",
       "      <td>4.320</td>\n",
       "      <td>4.360</td>\n",
       "    </tr>\n",
       "  </tbody>\n",
       "</table>\n",
       "</div>"
      ],
      "text/plain": [
       "   Diameter  Trial 1  Trial 2  Trial 3  Trial 4  Trial 5\n",
       "0      32.0    0.360    0.370    0.364    0.380    0.368\n",
       "1      36.1    1.440    1.442    1.438    1.444    1.420\n",
       "2      38.5    2.444    2.438    2.442    2.440    2.440\n",
       "3      41.2    3.080    3.060    3.100    3.180    3.200\n",
       "4      43.5    4.200    4.240    4.280    4.320    4.360"
      ]
     },
     "execution_count": 52,
     "metadata": {},
     "output_type": "execute_result"
    }
   ],
   "source": [
    "dfn1 = pd.read_csv(\"./ia.csv\")\n",
    "dfn2 = dfn1.drop(columns=[\"Diameter\"])\n",
    "dfn2 *= 0.02\n",
    "idx = 0\n",
    "name = \"Diameter\"\n",
    "boi_value = dfn1[\"Diameter\"]\n",
    "dfn2.insert(loc=idx,column=name,value=boi_value)\n",
    "dfn2"
   ]
  },
  {
   "cell_type": "code",
   "execution_count": 68,
   "metadata": {},
   "outputs": [],
   "source": [
    "dfboi = df1.drop(columns=[\"Trial 1\",\"Trial 2\",\"Trial 3\",\"Trial 4\",\"Trial 5\",\"Standard Deviation\",\"Power\",\"Fit\",\"Trendline\"])\n",
    "dfboi.to_csv(\"./average.csv\")"
   ]
  },
  {
   "cell_type": "code",
   "execution_count": null,
   "metadata": {},
   "outputs": [],
   "source": []
  }
 ],
 "metadata": {
  "kernelspec": {
   "display_name": "Python 3",
   "language": "python",
   "name": "python3"
  },
  "language_info": {
   "codemirror_mode": {
    "name": "ipython",
    "version": 3
   },
   "file_extension": ".py",
   "mimetype": "text/x-python",
   "name": "python",
   "nbconvert_exporter": "python",
   "pygments_lexer": "ipython3",
   "version": "3.6.6"
  }
 },
 "nbformat": 4,
 "nbformat_minor": 2
}
