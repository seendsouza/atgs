{
 "cells": [
  {
   "cell_type": "code",
   "execution_count": 51,
   "metadata": {},
   "outputs": [
    {
     "name": "stdout",
     "output_type": "stream",
     "text": [
      "boi\n"
     ]
    },
    {
     "data": {
      "text/html": [
       "<div>\n",
       "<style scoped>\n",
       "    .dataframe tbody tr th:only-of-type {\n",
       "        vertical-align: middle;\n",
       "    }\n",
       "\n",
       "    .dataframe tbody tr th {\n",
       "        vertical-align: top;\n",
       "    }\n",
       "\n",
       "    .dataframe thead th {\n",
       "        text-align: right;\n",
       "    }\n",
       "</style>\n",
       "<table border=\"1\" class=\"dataframe\">\n",
       "  <thead>\n",
       "    <tr style=\"text-align: right;\">\n",
       "      <th></th>\n",
       "      <th>Diameter</th>\n",
       "      <th>Trial 1</th>\n",
       "      <th>Trial 2</th>\n",
       "      <th>Trial 3</th>\n",
       "      <th>Trial 4</th>\n",
       "      <th>Trial 5</th>\n",
       "      <th>Average</th>\n",
       "      <th>Standard Deviation</th>\n",
       "      <th>Power</th>\n",
       "      <th>Fit</th>\n",
       "    </tr>\n",
       "  </thead>\n",
       "  <tbody>\n",
       "    <tr>\n",
       "      <th>0</th>\n",
       "      <td>25.5</td>\n",
       "      <td>0.8</td>\n",
       "      <td>0.7</td>\n",
       "      <td>0.9</td>\n",
       "      <td>1.0</td>\n",
       "      <td>1.0</td>\n",
       "      <td>0.88</td>\n",
       "      <td>0.130384</td>\n",
       "      <td>6.158643e+03</td>\n",
       "      <td>0.0</td>\n",
       "    </tr>\n",
       "    <tr>\n",
       "      <th>1</th>\n",
       "      <td>32.0</td>\n",
       "      <td>18.0</td>\n",
       "      <td>18.5</td>\n",
       "      <td>18.2</td>\n",
       "      <td>19.0</td>\n",
       "      <td>18.4</td>\n",
       "      <td>18.42</td>\n",
       "      <td>0.376829</td>\n",
       "      <td>2.150251e+06</td>\n",
       "      <td>0.0</td>\n",
       "    </tr>\n",
       "    <tr>\n",
       "      <th>2</th>\n",
       "      <td>36.1</td>\n",
       "      <td>72.0</td>\n",
       "      <td>72.1</td>\n",
       "      <td>71.9</td>\n",
       "      <td>72.2</td>\n",
       "      <td>71.0</td>\n",
       "      <td>71.84</td>\n",
       "      <td>0.482701</td>\n",
       "      <td>2.899248e+07</td>\n",
       "      <td>0.0</td>\n",
       "    </tr>\n",
       "    <tr>\n",
       "      <th>3</th>\n",
       "      <td>41.2</td>\n",
       "      <td>154.0</td>\n",
       "      <td>153.0</td>\n",
       "      <td>155.0</td>\n",
       "      <td>159.0</td>\n",
       "      <td>160.0</td>\n",
       "      <td>156.20</td>\n",
       "      <td>3.114482</td>\n",
       "      <td>1.200949e+08</td>\n",
       "      <td>0.0</td>\n",
       "    </tr>\n",
       "    <tr>\n",
       "      <th>4</th>\n",
       "      <td>43.5</td>\n",
       "      <td>210.0</td>\n",
       "      <td>212.0</td>\n",
       "      <td>214.0</td>\n",
       "      <td>216.0</td>\n",
       "      <td>218.0</td>\n",
       "      <td>214.00</td>\n",
       "      <td>3.162278</td>\n",
       "      <td>2.135002e+08</td>\n",
       "      <td>0.0</td>\n",
       "    </tr>\n",
       "    <tr>\n",
       "      <th>5</th>\n",
       "      <td>45.9</td>\n",
       "      <td>215.0</td>\n",
       "      <td>216.0</td>\n",
       "      <td>217.0</td>\n",
       "      <td>218.0</td>\n",
       "      <td>219.0</td>\n",
       "      <td>217.00</td>\n",
       "      <td>1.581139</td>\n",
       "      <td>2.080495e+08</td>\n",
       "      <td>0.0</td>\n",
       "    </tr>\n",
       "  </tbody>\n",
       "</table>\n",
       "</div>"
      ],
      "text/plain": [
       "   Diameter  Trial 1  Trial 2  Trial 3  Trial 4  Trial 5  Average  \\\n",
       "0      25.5      0.8      0.7      0.9      1.0      1.0     0.88   \n",
       "1      32.0     18.0     18.5     18.2     19.0     18.4    18.42   \n",
       "2      36.1     72.0     72.1     71.9     72.2     71.0    71.84   \n",
       "3      41.2    154.0    153.0    155.0    159.0    160.0   156.20   \n",
       "4      43.5    210.0    212.0    214.0    216.0    218.0   214.00   \n",
       "5      45.9    215.0    216.0    217.0    218.0    219.0   217.00   \n",
       "\n",
       "   Standard Deviation         Power  Fit  \n",
       "0            0.130384  6.158643e+03  0.0  \n",
       "1            0.376829  2.150251e+06  0.0  \n",
       "2            0.482701  2.899248e+07  0.0  \n",
       "3            3.114482  1.200949e+08  0.0  \n",
       "4            3.162278  2.135002e+08  0.0  \n",
       "5            1.581139  2.080495e+08  0.0  "
      ]
     },
     "execution_count": 51,
     "metadata": {},
     "output_type": "execute_result"
    }
   ],
   "source": [
    "print(\"boi\")\n",
    "import pandas as pd\n",
    "import numpy as np\n",
    "import math\n",
    "area = 0.0003211 #m\n",
    "resistivity = 1.68*10**(-8) #ohm m\n",
    "df1 = pd.read_csv(\"./ia.csv\")\n",
    "df2 = df1.drop(columns=[\"Diameter\"])\n",
    "df1['Average'] = df2.mean(numeric_only=True, axis=1)\n",
    "df1['Standard Deviation'] = df2.std(axis=1)\n",
    "df1['Power'] = ((df1['Average']**2)*area)/(resistivity * 30 * math.pi * (df1[\"Diameter\"] * 0.001))\n",
    "df1['Fit']=(2.08*10**8)/(1+2.7**(df1['Power']))\n",
    "df1"
   ]
  },
  {
   "cell_type": "code",
   "execution_count": 53,
   "metadata": {},
   "outputs": [
    {
     "data": {
      "text/plain": [
       "(0, 46.92734669885079)"
      ]
     },
     "execution_count": 53,
     "metadata": {},
     "output_type": "execute_result"
    },
    {
     "data": {
      "image/png": "[encoded data removed]",
      "text/plain": [
       "<Figure size 432x288 with 1 Axes>"
      ]
     },
     "metadata": {
      "needs_background": "light"
     },
     "output_type": "display_data"
    }
   ],
   "source": [
    "slope_equation = np.polyfit(df1[\"Diameter\"],df1[\"Average\"], 1)\n",
    "slope = np.poly1d(slope_equation)\n",
    "df1['Trendline'] = slope(df1[\"Diameter\"])\n",
    "ax=df1.plot.scatter(x=\"Diameter\",y=\"Average\")\n",
    "ax.set_xlabel(\"Diameter (cm)\")\n",
    "ax.set_ylabel(\"Current (mA)\")\n",
    "ax.set_xlim(left=0)\n",
    "#bx=df1.plot(ax=ax,x=\"Diameter\",y=\"Trendline\", yerr=\"Standard Deviation\",title=\"Diameter vs Current\")"
   ]
  },
  {
   "cell_type": "code",
   "execution_count": 42,
   "metadata": {
    "scrolled": true
   },
   "outputs": [
    {
     "name": "stdout",
     "output_type": "stream",
     "text": [
      "[ 7.52967781e+05 -4.21366936e+07  5.81437964e+08]\n"
     ]
    },
    {
     "data": {
      "text/plain": [
       "(0, 46.92734669885079)"
      ]
     },
     "execution_count": 42,
     "metadata": {},
     "output_type": "execute_result"
    },
    {
     "data": {
      "image/png": "[encoded data removed]",
      "text/plain": [
       "<Figure size 432x288 with 1 Axes>"
      ]
     },
     "metadata": {
      "needs_background": "light"
     },
     "output_type": "display_data"
    }
   ],
   "source": [
    "slope_equation = np.polyfit(df1[\"Diameter\"],df1[\"Power\"], deg=2)\n",
    "print(slope_equation)\n",
    "slope = np.poly1d(slope_equation)\n",
    "df1['pTrendline'] = slope(df1[\"Diameter\"])\n",
    "ax=df1.plot.scatter(x=\"Diameter\",y=\"Power\")\n",
    "ax.set_xlabel(\"Diameter (cm)\")\n",
    "ax.set_ylabel(\"Power(W)\")\n",
    "ax.set_xlim(left=0)\n",
    "#bx=df1.plot(ax=ax,x=\"Diameter\",y=\"pTrendline\", title=\"Diameter vs Power\")"
   ]
  },
  {
   "cell_type": "code",
   "execution_count": 49,
   "metadata": {
    "scrolled": false
   },
   "outputs": [
    {
     "name": "stdout",
     "output_type": "stream",
     "text": [
      "[0. 0.]\n"
     ]
    },
    {
     "data": {
      "text/plain": [
       "(0, 46.92734669885079)"
      ]
     },
     "execution_count": 49,
     "metadata": {},
     "output_type": "execute_result"
    },
    {
     "data": {
      "image/png": "[encoded data removed]",
      "text/plain": [
       "<Figure size 432x288 with 1 Axes>"
      ]
     },
     "metadata": {
      "needs_background": "light"
     },
     "output_type": "display_data"
    }
   ],
   "source": [
    "slope_equation = np.polyfit(df1[\"Diameter\"],df1[\"Fit\"], deg=1)\n",
    "print(slope_equation)\n",
    "slope = np.poly1d(slope_equation)\n",
    "df1['fTrendline'] = slope(df1[\"Diameter\"])\n",
    "ax=df1.plot.scatter(x=\"Diameter\",y=\"Fit\")\n",
    "ax.set_xlabel(\"Diameter (cm)\")\n",
    "ax.set_ylabel(\"idk\")\n",
    "ax.set_xlim(left=0)\n",
    "#bx=df1.plot(ax=ax,x=\"Diameter\",y=\"fTrendline\", title=\"Diameter vs Fit\")"
   ]
  },
  {
   "cell_type": "code",
   "execution_count": null,
   "metadata": {},
   "outputs": [],
   "source": [
    "\n",
    "\n",
    "\n",
    "\n"
   ]
  },
  {
   "cell_type": "code",
   "execution_count": null,
   "metadata": {},
   "outputs": [],
   "source": []
  },
  {
   "cell_type": "code",
   "execution_count": null,
   "metadata": {},
   "outputs": [],
   "source": []
  }
 ],
 "metadata": {
  "kernelspec": {
   "display_name": "Python 3",
   "language": "python",
   "name": "python3"
  },
  "language_info": {
   "codemirror_mode": {
    "name": "ipython",
    "version": 3
   },
   "file_extension": ".py",
   "mimetype": "text/x-python",
   "name": "python",
   "nbconvert_exporter": "python",
   "pygments_lexer": "ipython3",
   "version": "3.6.6"
  }
 },
 "nbformat": 4,
 "nbformat_minor": 2
}
