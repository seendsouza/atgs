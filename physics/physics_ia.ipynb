{
 "cells": [
  {
   "cell_type": "code",
   "execution_count": 188,
   "metadata": {},
   "outputs": [
    {
     "data": {
      "text/html": [
       "<div>\n",
       "<style scoped>\n",
       "    .dataframe tbody tr th:only-of-type {\n",
       "        vertical-align: middle;\n",
       "    }\n",
       "\n",
       "    .dataframe tbody tr th {\n",
       "        vertical-align: top;\n",
       "    }\n",
       "\n",
       "    .dataframe thead th {\n",
       "        text-align: right;\n",
       "    }\n",
       "</style>\n",
       "<table border=\"1\" class=\"dataframe\">\n",
       "  <thead>\n",
       "    <tr style=\"text-align: right;\">\n",
       "      <th></th>\n",
       "      <th>Diameter</th>\n",
       "      <th>Trial 1</th>\n",
       "      <th>Trial 2</th>\n",
       "      <th>Trial 3</th>\n",
       "      <th>Trial 4</th>\n",
       "      <th>Trial 5</th>\n",
       "      <th>Average</th>\n",
       "      <th>Standard Deviation</th>\n",
       "      <th>BOI</th>\n",
       "      <th>Power</th>\n",
       "      <th>Fit</th>\n",
       "    </tr>\n",
       "  </thead>\n",
       "  <tbody>\n",
       "    <tr>\n",
       "      <th>0</th>\n",
       "      <td>25.9</td>\n",
       "      <td>0.8</td>\n",
       "      <td>0.7</td>\n",
       "      <td>0.9</td>\n",
       "      <td>1.0</td>\n",
       "      <td>1.0</td>\n",
       "      <td>0.88</td>\n",
       "      <td>0.130384</td>\n",
       "      <td>0.938083</td>\n",
       "      <td>6.063529e+03</td>\n",
       "      <td>0.0</td>\n",
       "    </tr>\n",
       "    <tr>\n",
       "      <th>1</th>\n",
       "      <td>32.0</td>\n",
       "      <td>36.9</td>\n",
       "      <td>36.8</td>\n",
       "      <td>36.7</td>\n",
       "      <td>37.0</td>\n",
       "      <td>36.9</td>\n",
       "      <td>36.86</td>\n",
       "      <td>0.114018</td>\n",
       "      <td>6.071244</td>\n",
       "      <td>8.610346e+06</td>\n",
       "      <td>0.0</td>\n",
       "    </tr>\n",
       "    <tr>\n",
       "      <th>2</th>\n",
       "      <td>36.2</td>\n",
       "      <td>78.1</td>\n",
       "      <td>78.2</td>\n",
       "      <td>78.0</td>\n",
       "      <td>78.3</td>\n",
       "      <td>78.2</td>\n",
       "      <td>78.16</td>\n",
       "      <td>0.114018</td>\n",
       "      <td>8.840814</td>\n",
       "      <td>3.422319e+07</td>\n",
       "      <td>0.0</td>\n",
       "    </tr>\n",
       "    <tr>\n",
       "      <th>3</th>\n",
       "      <td>41.2</td>\n",
       "      <td>154.0</td>\n",
       "      <td>153.0</td>\n",
       "      <td>155.0</td>\n",
       "      <td>159.0</td>\n",
       "      <td>160.0</td>\n",
       "      <td>156.20</td>\n",
       "      <td>3.114482</td>\n",
       "      <td>12.498000</td>\n",
       "      <td>1.200949e+08</td>\n",
       "      <td>0.0</td>\n",
       "    </tr>\n",
       "    <tr>\n",
       "      <th>4</th>\n",
       "      <td>43.5</td>\n",
       "      <td>200.0</td>\n",
       "      <td>202.0</td>\n",
       "      <td>204.0</td>\n",
       "      <td>206.0</td>\n",
       "      <td>208.0</td>\n",
       "      <td>204.00</td>\n",
       "      <td>3.162278</td>\n",
       "      <td>14.282857</td>\n",
       "      <td>1.940131e+08</td>\n",
       "      <td>0.0</td>\n",
       "    </tr>\n",
       "    <tr>\n",
       "      <th>5</th>\n",
       "      <td>45.9</td>\n",
       "      <td>215.0</td>\n",
       "      <td>216.0</td>\n",
       "      <td>217.0</td>\n",
       "      <td>218.0</td>\n",
       "      <td>219.0</td>\n",
       "      <td>217.00</td>\n",
       "      <td>1.581139</td>\n",
       "      <td>14.730920</td>\n",
       "      <td>2.080495e+08</td>\n",
       "      <td>0.0</td>\n",
       "    </tr>\n",
       "  </tbody>\n",
       "</table>\n",
       "</div>"
      ],
      "text/plain": [
       "   Diameter  Trial 1  Trial 2  Trial 3  Trial 4  Trial 5  Average  \\\n",
       "0      25.9      0.8      0.7      0.9      1.0      1.0     0.88   \n",
       "1      32.0     36.9     36.8     36.7     37.0     36.9    36.86   \n",
       "2      36.2     78.1     78.2     78.0     78.3     78.2    78.16   \n",
       "3      41.2    154.0    153.0    155.0    159.0    160.0   156.20   \n",
       "4      43.5    200.0    202.0    204.0    206.0    208.0   204.00   \n",
       "5      45.9    215.0    216.0    217.0    218.0    219.0   217.00   \n",
       "\n",
       "   Standard Deviation        BOI         Power  Fit  \n",
       "0            0.130384   0.938083  6.063529e+03  0.0  \n",
       "1            0.114018   6.071244  8.610346e+06  0.0  \n",
       "2            0.114018   8.840814  3.422319e+07  0.0  \n",
       "3            3.114482  12.498000  1.200949e+08  0.0  \n",
       "4            3.162278  14.282857  1.940131e+08  0.0  \n",
       "5            1.581139  14.730920  2.080495e+08  0.0  "
      ]
     },
     "execution_count": 188,
     "metadata": {},
     "output_type": "execute_result"
    }
   ],
   "source": [
    "import pandas as pd\n",
    "import numpy as np\n",
    "import math\n",
    "area = 0.0003211 #m\n",
    "resistivity = 1.68*10**(-8) #ohm m\n",
    "df1 = pd.read_csv(\"./ia.csv\")\n",
    "df2 = df1.drop(columns=[\"Diameter\"])\n",
    "df1['Average'] = df2.mean(numeric_only=True, axis=1)\n",
    "df1['Standard Deviation'] = df2.std(axis=1)\n",
    "df1[\"BOI\"] = (df1[\"Average\"]**0.5)\n",
    "df1['Power'] = ((df1['Average']**2)*area)/(resistivity * 30 * math.pi * (df1[\"Diameter\"] * 0.001))\n",
    "df1['Fit']=(2.08*10**8)/(1+2.7**(df1['Power']))\n",
    "df1"
   ]
  },
  {
   "cell_type": "code",
   "execution_count": 211,
   "metadata": {},
   "outputs": [
    {
     "name": "stdout",
     "output_type": "stream",
     "text": [
      " \n",
      "0.7478 x - 18.22\n"
     ]
    },
    {
     "data": {
      "text/plain": [
       "Text(0, 0.5, 'Current (±10% mA)')"
      ]
     },
     "execution_count": 211,
     "metadata": {},
     "output_type": "execute_result"
    },
    {
     "data": {
      "image/png": "[encoded data removed]",
      "text/plain": [
       "<Figure size 432x288 with 1 Axes>"
      ]
     },
     "metadata": {
      "needs_background": "light"
     },
     "output_type": "display_data"
    }
   ],
   "source": [
    "xerr=0.1\n",
    "yerr=0.1\n",
    "slope_equation = np.polyfit(df1[\"Diameter\"].iloc[:-1],df1[\"BOI\"].iloc[:-1], 1)\n",
    "max_y = [0.7,208.0]\n",
    "min_y = [1.0,200.0]\n",
    "max_y = [i**0.5 for i in max_y]\n",
    "min_y = [i**0.5 for i in min_y]\n",
    "m_x = [25.9,43.5]\n",
    "max_slope_equation = np.polyfit(m_x,max_y,1)\n",
    "min_slope_equation = np.polyfit(m_x,min_y,1)\n",
    "min_slope = np.poly1d(min_slope_equation)\n",
    "max_slope = np.poly1d(max_slope_equation)\n",
    "slope = np.poly1d(slope_equation)\n",
    "print(slope)\n",
    "df1['Trendline'] = slope(df1[\"Diameter\"])\n",
    "df1['Minimum Slope'] = min_slope(df1[\"Diameter\"])\n",
    "df1['Maximum Slope'] = max_slope(df1[\"Diameter\"])\n",
    "ax=df1.plot.scatter(x=\"Diameter\",y=\"Average\",xerr=0.1,yerr=df1[\"Average\"]*yerr, title=\"Coil Diameter vs Current of Receiving Coil\")\n",
    "ax.set_xlim(left=0)\n",
    "\"\"\"\n",
    "bx=df1.plot(ax=ax,x=\"Diameter\",y=\"Trendline\")\n",
    "cx=df1.plot(ax=bx,x=\"Diameter\",y=\"Minimum Slope\")\n",
    "dx=df1.plot(ax=cx,x=\"Diameter\",y=\"Maximum Slope\")\n",
    "\"\"\"\n",
    "ax.set_xlabel(\"Coil Diameter (±0.1 mm)\")\n",
    "ax.set_ylabel(\"Current (±10% mA)\")\n",
    "\n",
    "#bx.errorbar(df1[\"Diameter\"], df1[\"Average\"], df1[\"Average\"]*yerr, 0.1, barsabove='True')"
   ]
  },
  {
   "cell_type": "code",
   "execution_count": 205,
   "metadata": {
    "scrolled": true
   },
   "outputs": [
    {
     "data": {
      "text/plain": [
       "0.9476318105368803"
      ]
     },
     "execution_count": 205,
     "metadata": {},
     "output_type": "execute_result"
    }
   ],
   "source": [
    "df1[\"Average\"].iloc[:-1].corr(df1[\"Trendline\"])**2"
   ]
  },
  {
   "cell_type": "code",
   "execution_count": 153,
   "metadata": {
    "scrolled": false
   },
   "outputs": [
    {
     "ename": "SyntaxError",
     "evalue": "EOF while scanning triple-quoted string literal (<ipython-input-153-984a77b648ed>, line 11)",
     "output_type": "error",
     "traceback": [
      "\u001b[0;36m  File \u001b[0;32m\"<ipython-input-153-984a77b648ed>\"\u001b[0;36m, line \u001b[0;32m11\u001b[0m\n\u001b[0;31m    \"\"\"\"\"\"\u001b[0m\n\u001b[0m          \n^\u001b[0m\n\u001b[0;31mSyntaxError\u001b[0m\u001b[0;31m:\u001b[0m EOF while scanning triple-quoted string literal\n"
     ]
    }
   ],
   "source": [
    "\"\"\"\"\n",
    "slope_equation = np.polyfit(df1[\"Diameter\"],df1[\"Fit\"], deg=1)\n",
    "print(slope_equation)\n",
    "slope = np.poly1d(slope_equation)\n",
    "df1['fTrendline'] = slope(df1[\"Diameter\"])\n",
    "ax=df1.plot.scatter(x=\"Diameter\",y=\"Fit\")\n",
    "ax.set_xlabel(\"Diameter (cm)\")\n",
    "ax.set_ylabel(\"idk\")\n",
    "ax.set_xlim(left=0)\n",
    "#bx=df1.plot(ax=ax,x=\"Diameter\",y=\"fTrendline\", title=\"Diameter vs Fit\")\n",
    "\"\"\"\"\"\""
   ]
  },
  {
   "cell_type": "code",
   "execution_count": 52,
   "metadata": {},
   "outputs": [
    {
     "data": {
      "text/html": [
       "<div>\n",
       "<style scoped>\n",
       "    .dataframe tbody tr th:only-of-type {\n",
       "        vertical-align: middle;\n",
       "    }\n",
       "\n",
       "    .dataframe tbody tr th {\n",
       "        vertical-align: top;\n",
       "    }\n",
       "\n",
       "    .dataframe thead th {\n",
       "        text-align: right;\n",
       "    }\n",
       "</style>\n",
       "<table border=\"1\" class=\"dataframe\">\n",
       "  <thead>\n",
       "    <tr style=\"text-align: right;\">\n",
       "      <th></th>\n",
       "      <th>Diameter</th>\n",
       "      <th>Trial 1</th>\n",
       "      <th>Trial 2</th>\n",
       "      <th>Trial 3</th>\n",
       "      <th>Trial 4</th>\n",
       "      <th>Trial 5</th>\n",
       "    </tr>\n",
       "  </thead>\n",
       "  <tbody>\n",
       "    <tr>\n",
       "      <th>0</th>\n",
       "      <td>32.0</td>\n",
       "      <td>0.360</td>\n",
       "      <td>0.370</td>\n",
       "      <td>0.364</td>\n",
       "      <td>0.380</td>\n",
       "      <td>0.368</td>\n",
       "    </tr>\n",
       "    <tr>\n",
       "      <th>1</th>\n",
       "      <td>36.1</td>\n",
       "      <td>1.440</td>\n",
       "      <td>1.442</td>\n",
       "      <td>1.438</td>\n",
       "      <td>1.444</td>\n",
       "      <td>1.420</td>\n",
       "    </tr>\n",
       "    <tr>\n",
       "      <th>2</th>\n",
       "      <td>38.5</td>\n",
       "      <td>2.444</td>\n",
       "      <td>2.438</td>\n",
       "      <td>2.442</td>\n",
       "      <td>2.440</td>\n",
       "      <td>2.440</td>\n",
       "    </tr>\n",
       "    <tr>\n",
       "      <th>3</th>\n",
       "      <td>41.2</td>\n",
       "      <td>3.080</td>\n",
       "      <td>3.060</td>\n",
       "      <td>3.100</td>\n",
       "      <td>3.180</td>\n",
       "      <td>3.200</td>\n",
       "    </tr>\n",
       "    <tr>\n",
       "      <th>4</th>\n",
       "      <td>43.5</td>\n",
       "      <td>4.200</td>\n",
       "      <td>4.240</td>\n",
       "      <td>4.280</td>\n",
       "      <td>4.320</td>\n",
       "      <td>4.360</td>\n",
       "    </tr>\n",
       "  </tbody>\n",
       "</table>\n",
       "</div>"
      ],
      "text/plain": [
       "   Diameter  Trial 1  Trial 2  Trial 3  Trial 4  Trial 5\n",
       "0      32.0    0.360    0.370    0.364    0.380    0.368\n",
       "1      36.1    1.440    1.442    1.438    1.444    1.420\n",
       "2      38.5    2.444    2.438    2.442    2.440    2.440\n",
       "3      41.2    3.080    3.060    3.100    3.180    3.200\n",
       "4      43.5    4.200    4.240    4.280    4.320    4.360"
      ]
     },
     "execution_count": 52,
     "metadata": {},
     "output_type": "execute_result"
    }
   ],
   "source": [
    "dfn1 = pd.read_csv(\"./ia.csv\")\n",
    "dfn2 = dfn1.drop(columns=[\"Diameter\"])\n",
    "dfn2 *= 0.02\n",
    "idx = 0\n",
    "name = \"Diameter\"\n",
    "boi_value = dfn1[\"Diameter\"]\n",
    "dfn2.insert(loc=idx,column=name,value=boi_value)\n",
    "dfn2"
   ]
  },
  {
   "cell_type": "code",
   "execution_count": 209,
   "metadata": {},
   "outputs": [],
   "source": [
    "dfboi = df1.drop(columns=[\"Trial 1\",\"Trial 2\",\"Trial 3\",\"Trial 4\",\"Trial 5\",\"Standard Deviation\",\"Power\",\"Fit\",\"Trendline\",\"Average\"])\n",
    "dfboi.to_csv(\"./boi.csv\")"
   ]
  },
  {
   "cell_type": "code",
   "execution_count": 212,
   "metadata": {},
   "outputs": [
    {
     "data": {
      "text/plain": [
       "24.364803423375232"
      ]
     },
     "execution_count": 212,
     "metadata": {},
     "output_type": "execute_result"
    }
   ],
   "source": [
    "18.22/0.7478\n"
   ]
  },
  {
   "cell_type": "markdown",
   "metadata": {},
   "source": []
  }
 ],
 "metadata": {
  "kernelspec": {
   "display_name": "Python 3",
   "language": "python",
   "name": "python3"
  },
  "language_info": {
   "codemirror_mode": {
    "name": "ipython",
    "version": 3
   },
   "file_extension": ".py",
   "mimetype": "text/x-python",
   "name": "python",
   "nbconvert_exporter": "python",
   "pygments_lexer": "ipython3",
   "version": "3.6.6"
  }
 },
 "nbformat": 4,
 "nbformat_minor": 2
}
